{
  "cells": [
    {
      "cell_type": "code",
      "execution_count": 11,
      "metadata": {
        "id": "RVpCzNDaFTI3"
      },
      "outputs": [],
      "source": [
        "from pyspark.sql.types import StructType, StructField, IntegerType, FloatType, BooleanType, StringType, TimestampType\n",
        "schema = StructType([\n",
        "    StructField(\"col0\", IntegerType(), False),\n",
        "    StructField(\"appId\", StringType(), True),\n",
        "    StructField(\"developer\", StringType(), True),\n",
        "    StructField(\"developerId\", StringType(), True),\n",
        "    StructField(\"developerWebsite\", StringType(), True),\n",
        "    StructField(\"free\", BooleanType(), True),\n",
        "    StructField(\"genre\", StringType(), True),\n",
        "    StructField(\"genreId\", StringType(), True),\n",
        "    StructField(\"inAppProductPrice\", StringType(), True),\n",
        "    StructField(\"minInstalls\", IntegerType(), True),\n",
        "    StructField(\"offersIAP\", BooleanType(), True),\n",
        "    StructField(\"originalPrice\", StringType(), True),\n",
        "    StructField(\"price\", FloatType(), True),\n",
        "    StructField(\"ratings\", IntegerType(), True),\n",
        "    StructField(\"lenscreenshots\", IntegerType(), True),\n",
        "    StructField(\"adSupported\", BooleanType(), True),\n",
        "    StructField(\"containsAds\", BooleanType(), True),\n",
        "    StructField(\"reviews\", IntegerType(), True),\n",
        "    StructField(\"releasedDayYear\", StringType(), True),\n",
        "    StructField(\"sale\", StringType(), True),\n",
        "    StructField(\"score\", FloatType(), True),\n",
        "    StructField(\"summary\", StringType(), True),\n",
        "    StructField(\"title\", StringType(), True),\n",
        "    StructField(\"updated\", IntegerType(), True),\n",
        "    StructField(\"histogram1\", IntegerType(), True),\n",
        "    StructField(\"histogram2\", IntegerType(), True),\n",
        "    StructField(\"histogram3\", IntegerType(), True),\n",
        "    StructField(\"histogram4\", IntegerType(), True),\n",
        "    StructField(\"histogram5\", IntegerType(), True),\n",
        "    StructField(\"releasedDay\", IntegerType(), True),\n",
        "    StructField(\"releasedYear\", IntegerType(), True),\n",
        "    StructField(\"releasedMonth\", StringType(), True),\n",
        "    StructField(\"dateUpdated\", TimestampType(), True),\n",
        "    StructField(\"minprice\", StringType(), True),\n",
        "    StructField(\"maxprice\", FloatType(), True),\n",
        "    StructField(\"ParseReleasedDayYear\", TimestampType(), True)\n",
        "])\n"
      ]
    },
    {
      "cell_type": "code",
      "execution_count": 12,
      "metadata": {
        "id": "mCj5kl2iHtWZ"
      },
      "outputs": [],
      "source": [
        "df = spark.read.schema(schema).options(header=True).csv('/content/google_play_dataset.csv')"
      ]
    },
    {
      "cell_type": "code",
      "execution_count": 30,
      "metadata": {
        "id": "tzAp48zCyyOM"
      },
      "outputs": [],
      "source": [
        "result_df = df.groupBy('genre',df.releasedDayYear.substr(-4, 4).alias('releasedYear')).sum('minInstalls').withColumnRenamed(\"sum(minInstalls)\", \"Downloads\")"
      ]
    },
    {
      "cell_type": "code",
      "execution_count": 35,
      "metadata": {
        "colab": {
          "base_uri": "https://localhost:8080/"
        },
        "id": "4tyd-13VzgLp",
        "outputId": "0c5b231b-5571-483c-8f74-3a93dfba21bc"
      },
      "outputs": [
        {
          "name": "stdout",
          "output_type": "stream",
          "text": [
            "+------------+------------+---------+\n",
            "|       genre|releasedYear|Downloads|\n",
            "+------------+------------+---------+\n",
            "|Art & Design|        2013|   501000|\n",
            "|Art & Design|        2014|  2050000|\n",
            "|Art & Design|        2015|      500|\n",
            "|Art & Design|        2016|  1406050|\n",
            "|Art & Design|        2017|  7245666|\n",
            "|Art & Design|        2018|  2580870|\n",
            "|Art & Design|        2019| 23703333|\n",
            "|Art & Design|        2020|  2364753|\n",
            "|Art & Design|        2021|  1110518|\n",
            "|Art & Design|        2022|     1010|\n",
            "+------------+------------+---------+\n",
            "\n"
          ]
        }
      ],
      "source": [
        "#top-ranked genre for each year\n",
        "window = Window.partitionBy('releasedYear').orderBy(col('Downloads').desc())\n",
        "\n",
        "result_df = result_df.withColumn('rank', rank().over(window))\n",
        "\n",
        "\n",
        "most_popular_genre_df = result_df.filter(col('rank') == 1)\n",
        "most_popular_genre_df.select('genre','releasedYear','Downloads').show()"
      ]
    },
    {
      "cell_type": "code",
      "execution_count": null,
      "metadata": {
        "id": "jrqZM4wYwBCE"
      },
      "outputs": [],
      "source": []
    }
  ],
  "metadata": {
    "colab": {
      "provenance": []
    },
    "kernelspec": {
      "display_name": "Python 3",
      "name": "python3"
    },
    "language_info": {
      "name": "python"
    }
  },
  "nbformat": 4,
  "nbformat_minor": 0
}
