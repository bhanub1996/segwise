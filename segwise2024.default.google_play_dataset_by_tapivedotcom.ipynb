{
 "cells": [
  {
   "cell_type": "code",
   "execution_count": 0,
   "metadata": {
    "application/vnd.databricks.v1+cell": {
     "cellMetadata": {
      "byteLimit": 2048000,
      "implicitDf": true,
      "rowLimit": 10000
     },
     "inputWidgets": {},
     "nuid": "980e471f-41ca-41c0-a7bf-3c9fdcac9104",
     "showTitle": false,
     "title": ""
    }
   },
   "outputs": [
    {
     "output_type": "execute_result",
     "data": {
      "text/plain": [
       "[Row(appId='com.cyou.cma.clauncher.theme.v542279ccb70366ba6adf1de2', developer='Best theme workshop', developerId='7398289236941441420', developerWebsite='http://www.c-launcher.com/', free=1, genre='Art & Design', genreId='ART_AND_DESIGN', inAppProductPrice='None', minInstalls=1000000, offersIAP=0, originalPrice='None', price=0.0, ratings=30650, len screenshots=4, adSupported=1, containsAds=1, reviews=152, releasedDayYear='Sep 27, 2014', sale=0, score=4.75, summary='Cute Bear Theme for Launcher with pink hearts wallpapers and kawaii icon pack!', title='Cute Bear love  honey with Pin', updated=1555921116.0, histogram1=591, histogram2=0, histogram3=1815, histogram4=1477, histogram5=26681, releasedDay=27, releasedYear=2014, releasedMonth='Sep', dateUpdated=datetime.datetime(2019, 4, 22, 8, 18, 36), minprice='None', maxprice=0.0, ParseReleasedDayYear=datetime.datetime(2014, 9, 27, 0, 0)),\n",
       " Row(appId='com.cyou.cma.clauncher.theme.v546307d9199ddff33502cbdb', developer='Best Android Themes Workshop', developerId='5762674363677973291', developerWebsite='http://www.c-launcher.com/', free=1, genre='Art & Design', genreId='ART_AND_DESIGN', inAppProductPrice='None', minInstalls=1000000, offersIAP=0, originalPrice='None', price=0.0, ratings=15150, len screenshots=15, adSupported=1, containsAds=1, reviews=62, releasedDayYear='Nov 13, 2014', sale=0, score=4.52, summary='Enjoy Stylish launcher with Neon Night Romance on your android.', title='Stylish Romantic Theme: Neon N', updated=1555921666.0, histogram1=577, histogram2=441, histogram3=883, histogram4=1664, histogram5=11481, releasedDay=13, releasedYear=2014, releasedMonth='Nov', dateUpdated=datetime.datetime(2019, 4, 22, 8, 27, 46), minprice='None', maxprice=0.0, ParseReleasedDayYear=datetime.datetime(2014, 11, 13, 0, 0)),\n",
       " Row(appId='com.kids.paint.free.app', developer='NAVEENKUMAR', developerId='NAVEENKUMAR', developerWebsite='https://naveenkumarapps.blogspot.com', free=1, genre='Art & Design', genreId='ART_AND_DESIGN', inAppProductPrice='None', minInstalls=500000, offersIAP=0, originalPrice='None', price=0.0, ratings=3312, len screenshots=8, adSupported=1, containsAds=1, reviews=59, releasedDayYear='Dec 14, 2013', sale=0, score=3.61, summary='Do you like to draw and paint? Then this program is for you.', title='Paint', updated=1640242939.0, histogram1=695, histogram2=182, histogram3=347, histogram4=494, histogram5=1555, releasedDay=14, releasedYear=2013, releasedMonth='Dec', dateUpdated=datetime.datetime(2021, 12, 23, 7, 2, 19), minprice='None', maxprice=0.0, ParseReleasedDayYear=datetime.datetime(2013, 12, 14, 0, 0))]"
      ]
     },
     "execution_count": 5,
     "metadata": {},
     "output_type": "execute_result"
    }
   ],
   "source": [
    "from pyspark.sql.functions import sum\n",
    "df = spark.table(\"segwise2024.default.google_play_dataset_by_tapivedotcom\")"
   ]
  },
  {
   "cell_type": "code",
   "execution_count": 0,
   "metadata": {
    "application/vnd.databricks.v1+cell": {
     "cellMetadata": {
      "byteLimit": 2048000,
      "rowLimit": 10000
     },
     "inputWidgets": {},
     "nuid": "7fcc6776-82db-44ad-8713-4f6107b49a41",
     "showTitle": false,
     "title": ""
    }
   },
   "outputs": [
    {
     "output_type": "execute_result",
     "data": {
      "text/plain": [
       "['appId',\n",
       " 'developer',\n",
       " 'developerId',\n",
       " 'developerWebsite',\n",
       " 'free',\n",
       " 'genre',\n",
       " 'genreId',\n",
       " 'inAppProductPrice',\n",
       " 'minInstalls',\n",
       " 'offersIAP',\n",
       " 'originalPrice',\n",
       " 'price',\n",
       " 'ratings',\n",
       " 'len screenshots',\n",
       " 'adSupported',\n",
       " 'containsAds',\n",
       " 'reviews',\n",
       " 'releasedDayYear',\n",
       " 'sale',\n",
       " 'score',\n",
       " 'summary',\n",
       " 'title',\n",
       " 'updated',\n",
       " 'histogram1',\n",
       " 'histogram2',\n",
       " 'histogram3',\n",
       " 'histogram4',\n",
       " 'histogram5',\n",
       " 'releasedDay',\n",
       " 'releasedYear',\n",
       " 'releasedMonth',\n",
       " 'dateUpdated',\n",
       " 'minprice',\n",
       " 'maxprice',\n",
       " 'ParseReleasedDayYear']"
      ]
     },
     "execution_count": 84,
     "metadata": {},
     "output_type": "execute_result"
    }
   ],
   "source": [
    "df.na.drop()\n",
    "df.columns"
   ]
  },
  {
   "cell_type": "code",
   "execution_count": 0,
   "metadata": {
    "application/vnd.databricks.v1+cell": {
     "cellMetadata": {
      "byteLimit": 2048000,
      "rowLimit": 10000
     },
     "inputWidgets": {},
     "nuid": "f09fb36f-fad0-4049-b06d-53f2aec83a0b",
     "showTitle": false,
     "title": ""
    }
   },
   "outputs": [
    {
     "output_type": "execute_result",
     "data": {
      "text/plain": [
       "DataFrame[appId: string, developer: string, developerId: string, developerWebsite: string, free: bigint, genre: string, genreId: string, inAppProductPrice: string, minInstalls: bigint, offersIAP: bigint, originalPrice: string, price: double, ratings: bigint, len screenshots: bigint, adSupported: bigint, containsAds: bigint, reviews: bigint, releasedDayYear: string, sale: bigint, score: double, summary: string, title: string, updated: double, histogram1: bigint, histogram2: bigint, histogram3: bigint, histogram4: bigint, histogram5: bigint, releasedDay: bigint, releasedYear: bigint, releasedMonth: string, dateUpdated: timestamp, minprice: string, maxprice: double, ParseReleasedDayYear: timestamp]"
      ]
     },
     "execution_count": 70,
     "metadata": {},
     "output_type": "execute_result"
    }
   ],
   "source": [
    "# Bucketing the dataset by genre\n",
    "genre_cnt = df.select('genre').distinct().count()\n",
    "if genre_cnt < 100:\n",
    "  bucket_cnt = genre_cnt\n",
    "elif genre_cnt< 1000:\n",
    "  bucket_cnt = genre_cnt\n",
    "else:\n",
    "  bucket_cnt = 100\n",
    "df.write.bucketBy(bucket_cnt,'genre').parquet('bucketed_data')\n",
    "df = spark.read.parquet('bucketed_data')"
   ]
  },
  {
   "cell_type": "code",
   "execution_count": 0,
   "metadata": {
    "application/vnd.databricks.v1+cell": {
     "cellMetadata": {
      "byteLimit": 2048000,
      "rowLimit": 10000
     },
     "inputWidgets": {},
     "nuid": "39e0eec6-552b-4b43-af84-0636653dfedb",
     "showTitle": false,
     "title": ""
    }
   },
   "outputs": [],
   "source": [
    "#filtering out paid apps, selecting specific columns and casting minInstalls to float \n",
    "df_paid = df.filter(df.free==0).select('genre','price','minInstalls')\n",
    "df_paid = df_paid.withColumn('minInstalls',df.minInstalls.cast('float'))"
   ]
  },
  {
   "cell_type": "code",
   "execution_count": 0,
   "metadata": {
    "application/vnd.databricks.v1+cell": {
     "cellMetadata": {
      "byteLimit": 2048000,
      "rowLimit": 10000
     },
     "inputWidgets": {},
     "nuid": "8634429f-1c11-460c-87bd-c38ed5eea7e3",
     "showTitle": false,
     "title": ""
    }
   },
   "outputs": [
    {
     "output_type": "stream",
     "name": "stdout",
     "output_type": "stream",
     "text": [
      "+---------------+------------+\n|          genre|min_Installs|\n+---------------+------------+\n|         Action| 7.2340651E7|\n|         Arcade| 3.5410546E7|\n|          Tools| 3.0844775E7|\n|      Adventure| 2.9810442E7|\n|         Puzzle| 2.9726573E7|\n|Personalization| 2.6544565E7|\n|   Role Playing| 2.2983466E7|\n|       Strategy| 2.2966601E7|\n|     Simulation| 2.2037837E7|\n|  Music & Audio| 1.6843644E7|\n+---------------+------------+\n\n"
     ]
    }
   ],
   "source": [
    "#Top 10 Genres for which consumers are willing to pay for\n",
    "df_paid.groupBy('genre').agg(sum('minInstalls').alias('min_Installs')).orderBy('min_Installs', ascending=False).na.drop().limit(10).show()"
   ]
  },
  {
   "cell_type": "code",
   "execution_count": 0,
   "metadata": {
    "application/vnd.databricks.v1+cell": {
     "cellMetadata": {
      "byteLimit": 2048000,
      "rowLimit": 10000
     },
     "inputWidgets": {},
     "nuid": "f0b4d2bc-8ff5-49df-9244-150affba4919",
     "showTitle": false,
     "title": ""
    }
   },
   "outputs": [
    {
     "output_type": "stream",
     "name": "stdout",
     "output_type": "stream",
     "text": [
      "+-------------+-------------+---------------+\n|        genre|total_reviews|Num_of_Installs|\n+-------------+-------------+---------------+\n|       Casual|     18351468|    22216203017|\n|       Action|     18033132|    23746658428|\n|       Social|     17067320|    18568734632|\n|Communication|     16707387|    63150705051|\n|        Tools|     16059030|   101609727010|\n|       Arcade|     14119614|    16637463350|\n|       Puzzle|     12877550|    14506465011|\n|   Simulation|     12686311|    15057295126|\n|Entertainment|     11570292|    25508821400|\n|Music & Audio|     10320033|    16104426948|\n+-------------+-------------+---------------+\n\n"
     ]
    }
   ],
   "source": [
    "#Most popular genres based on the user reviews\n",
    "df_reviews = df.filter(df.score.isNotNull())\n",
    "df_reviews.groupBy('genre').agg(sum('reviews').alias('total_reviews'), sum('minInstalls').alias('Num_of_Installs')).orderBy('total_reviews','Num_of_Installs', ascending=False).limit(10).show()\n"
   ]
  },
  {
   "cell_type": "code",
   "execution_count": 0,
   "metadata": {
    "application/vnd.databricks.v1+cell": {
     "cellMetadata": {
      "byteLimit": 2048000,
      "rowLimit": 10000
     },
     "inputWidgets": {},
     "nuid": "c530c415-6eca-4284-9df5-bf6fb95d9eb4",
     "showTitle": false,
     "title": ""
    }
   },
   "outputs": [
    {
     "output_type": "stream",
     "name": "stdout",
     "output_type": "stream",
     "text": [
      "+-------------------+-----+-----+\n|              genre|price|count|\n+-------------------+-----+-----+\n|               NULL| NULL|   55|\n|           가격비교| NULL|    1|\n|             +Falbo| NULL|    1|\n|                  0| NULL|   10|\n|                 85| NULL|    1|\n|8841647080022600382|  0.0|    1|\n|             Action|  0.0|40752|\n|             Action| 0.05|    1|\n|             Action|  0.1|    1|\n|             Action| 0.25|    2|\n|             Action| 0.26|    2|\n|             Action|  0.4|    1|\n|             Action| 0.41|    1|\n|             Action| 0.45|    6|\n|             Action| 0.48|    4|\n|             Action| 0.49|   58|\n|             Action|  0.6|    1|\n|             Action| 0.69|    9|\n|             Action| 0.71|    1|\n|             Action| 0.76|    1|\n+-------------------+-----+-----+\nonly showing top 20 rows\n\n"
     ]
    }
   ],
   "source": [
    "df.groupBy('genre', 'price').count().orderBy('genre', 'price').show()"
   ]
  },
  {
   "cell_type": "code",
   "execution_count": 0,
   "metadata": {
    "application/vnd.databricks.v1+cell": {
     "cellMetadata": {
      "byteLimit": 2048000,
      "rowLimit": 10000
     },
     "inputWidgets": {},
     "nuid": "d495c9aa-1cc4-4d6a-9597-3e595c46b5b8",
     "showTitle": false,
     "title": ""
    }
   },
   "outputs": [
    {
     "output_type": "stream",
     "name": "stdout",
     "output_type": "stream",
     "text": [
      "+-----------------+----+---------+-------------+-----+\n|inAppProductPrice|sale|offersIAP|originalPrice|price|\n+-----------------+----+---------+-------------+-----+\n|             None|   0|        0|         None|  0.0|\n|             None|   0|        0|         None|  0.0|\n|             None|   0|        0|         None|  0.0|\n|             None|   0|        0|         None|  0.0|\n|             None|   0|        0|         None| 2.61|\n|             None|   0|        0|         None|  9.9|\n|             None|   0|        0|         None|  0.0|\n|             None|   0|        0|         None|  0.0|\n|             None|   0|        0|         None|  0.0|\n|   $0.99 per item|   0|        1|         None|  0.0|\n|             None|   0|        0|         None|  0.0|\n|             None|   0|        0|         None|  0.0|\n|             None|   0|        0|         None|  0.0|\n|             None|   0|        0|         None|  0.0|\n|             None|   0|        0|         None|  0.0|\n|             None|   0|        0|         None|  0.0|\n|             None|   0|        0|         None|  0.0|\n|             None|   0|        0|         None|  0.0|\n|             None|   0|        0|         None|  0.0|\n|             None|   0|        0|         None|  0.0|\n+-----------------+----+---------+-------------+-----+\nonly showing top 20 rows\n\n"
     ]
    }
   ],
   "source": [
    "df.select('inAppProductPrice','sale','offersIAP','originalPrice','price').show()"
   ]
  },
  {
   "cell_type": "code",
   "execution_count": 0,
   "metadata": {
    "application/vnd.databricks.v1+cell": {
     "cellMetadata": {},
     "inputWidgets": {},
     "nuid": "6ed76e8e-6915-4e34-88b4-a05abbe41195",
     "showTitle": false,
     "title": ""
    }
   },
   "outputs": [],
   "source": []
  }
 ],
 "metadata": {
  "application/vnd.databricks.v1+notebook": {
   "dashboards": [],
   "language": "python",
   "notebookMetadata": {
    "mostRecentlyExecutedCommandWithImplicitDF": {
     "commandId": -1,
     "dataframes": [
      "_sqldf"
     ]
    },
    "pythonIndentUnit": 2
   },
   "notebookName": "Explore segwise2024.default.google_play_dataset_by_tapivedotcom",
   "widgets": {}
  }
 },
 "nbformat": 4,
 "nbformat_minor": 0
}
